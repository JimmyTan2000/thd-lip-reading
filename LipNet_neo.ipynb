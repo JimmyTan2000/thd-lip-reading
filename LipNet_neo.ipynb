{
 "cells": [
  {
   "attachments": {},
   "cell_type": "markdown",
   "id": "a3573a47-3689-4668-b62f-5c8451b2b4e9",
   "metadata": {
    "tags": []
   },
   "source": [
    "# 0. Install and Import Dependencies"
   ]
  },
  {
   "cell_type": "code",
   "execution_count": 3,
   "id": "ddfbccbe-41ae-4c23-98b1-a13868e2b499",
   "metadata": {
    "scrolled": true,
    "tags": []
   },
   "outputs": [
    {
     "name": "stdout",
     "output_type": "stream",
     "text": [
      "Package                      Version\n",
      "---------------------------- --------\n",
      "absl-py                      1.4.0\n",
      "asttokens                    2.2.1\n",
      "astunparse                   1.6.3\n",
      "backcall                     0.2.0\n",
      "beautifulsoup4               4.12.2\n",
      "cachetools                   5.3.0\n",
      "certifi                      2023.5.7\n",
      "charset-normalizer           3.1.0\n",
      "colorama                     0.4.6\n",
      "comm                         0.1.3\n",
      "contourpy                    1.0.7\n",
      "cycler                       0.11.0\n",
      "debugpy                      1.6.7\n",
      "decorator                    5.1.1\n",
      "executing                    1.2.0\n",
      "filelock                     3.12.0\n",
      "flatbuffers                  23.5.9\n",
      "fonttools                    4.39.4\n",
      "gast                         0.4.0\n",
      "gdown                        4.7.1\n",
      "google-auth                  2.18.1\n",
      "google-auth-oauthlib         0.4.6\n",
      "google-pasta                 0.2.0\n",
      "grpcio                       1.54.2\n",
      "h5py                         3.8.0\n",
      "idna                         3.4\n",
      "imageio                      2.28.1\n",
      "importlib-metadata           6.6.0\n",
      "importlib-resources          5.12.0\n",
      "ipykernel                    6.23.1\n",
      "ipython                      8.12.2\n",
      "jedi                         0.18.2\n",
      "jupyter-client               8.2.0\n",
      "jupyter-core                 5.3.0\n",
      "keras                        2.10.0\n",
      "Keras-Preprocessing          1.1.2\n",
      "kiwisolver                   1.4.4\n",
      "libclang                     16.0.0\n",
      "Markdown                     3.4.3\n",
      "MarkupSafe                   2.1.2\n",
      "matplotlib                   3.7.1\n",
      "matplotlib-inline            0.1.6\n",
      "nest-asyncio                 1.5.6\n",
      "numpy                        1.24.3\n",
      "oauthlib                     3.2.2\n",
      "opencv-python                4.7.0.72\n",
      "opt-einsum                   3.3.0\n",
      "packaging                    23.1\n",
      "parso                        0.8.3\n",
      "pickleshare                  0.7.5\n",
      "Pillow                       9.5.0\n",
      "pip                          21.1.1\n",
      "platformdirs                 3.5.1\n",
      "prompt-toolkit               3.0.38\n",
      "protobuf                     3.19.6\n",
      "psutil                       5.9.5\n",
      "pure-eval                    0.2.2\n",
      "pyasn1                       0.5.0\n",
      "pyasn1-modules               0.3.0\n",
      "Pygments                     2.15.1\n",
      "pyparsing                    3.0.9\n",
      "PySocks                      1.7.1\n",
      "python-dateutil              2.8.2\n",
      "pywin32                      306\n",
      "pyzmq                        25.0.2\n",
      "requests                     2.30.0\n",
      "requests-oauthlib            1.3.1\n",
      "rsa                          4.9\n",
      "setuptools                   56.0.0\n",
      "six                          1.16.0\n",
      "soupsieve                    2.4.1\n",
      "stack-data                   0.6.2\n",
      "tensorboard                  2.10.1\n",
      "tensorboard-data-server      0.6.1\n",
      "tensorboard-plugin-wit       1.8.1\n",
      "tensorflow                   2.10.1\n",
      "tensorflow-estimator         2.10.0\n",
      "tensorflow-io-gcs-filesystem 0.31.0\n",
      "termcolor                    2.3.0\n",
      "tornado                      6.3.2\n",
      "tqdm                         4.65.0\n",
      "traitlets                    5.9.0\n",
      "typing-extensions            4.5.0\n",
      "urllib3                      1.26.15\n",
      "wcwidth                      0.2.6\n",
      "Werkzeug                     2.3.4\n",
      "wheel                        0.40.0\n",
      "wrapt                        1.15.0\n",
      "zipp                         3.15.0\n"
     ]
    },
    {
     "name": "stderr",
     "output_type": "stream",
     "text": [
      "WARNING: You are using pip version 21.1.1; however, version 23.1.2 is available.\n",
      "You should consider upgrading via the 'c:\\users\\bryan bu\\desktop\\lip-reading\\.virtualenv\\scripts\\python.exe -m pip install --upgrade pip' command.\n"
     ]
    }
   ],
   "source": [
    "!pip list"
   ]
  },
  {
   "cell_type": "code",
   "execution_count": 4,
   "id": "02f907ea-f669-46c7-adcf-7f257e663448",
   "metadata": {
    "tags": []
   },
   "outputs": [
    {
     "name": "stdout",
     "output_type": "stream",
     "text": [
      "Requirement already satisfied: opencv-python==4.7.0.72 in c:\\users\\bryan bu\\desktop\\lip-reading\\.virtualenv\\lib\\site-packages (4.7.0.72)\n",
      "Requirement already satisfied: matplotlib==3.7.1 in c:\\users\\bryan bu\\desktop\\lip-reading\\.virtualenv\\lib\\site-packages (3.7.1)\n",
      "Requirement already satisfied: imageio==2.28.1 in c:\\users\\bryan bu\\desktop\\lip-reading\\.virtualenv\\lib\\site-packages (2.28.1)\n",
      "Requirement already satisfied: gdown==4.7.1 in c:\\users\\bryan bu\\desktop\\lip-reading\\.virtualenv\\lib\\site-packages (4.7.1)\n",
      "Requirement already satisfied: tensorflow==2.10.1 in c:\\users\\bryan bu\\desktop\\lip-reading\\.virtualenv\\lib\\site-packages (2.10.1)\n",
      "Requirement already satisfied: numpy>=1.17.3 in c:\\users\\bryan bu\\desktop\\lip-reading\\.virtualenv\\lib\\site-packages (from opencv-python==4.7.0.72) (1.24.3)\n",
      "Requirement already satisfied: contourpy>=1.0.1 in c:\\users\\bryan bu\\desktop\\lip-reading\\.virtualenv\\lib\\site-packages (from matplotlib==3.7.1) (1.0.7)\n",
      "Requirement already satisfied: packaging>=20.0 in c:\\users\\bryan bu\\desktop\\lip-reading\\.virtualenv\\lib\\site-packages (from matplotlib==3.7.1) (23.1)\n",
      "Requirement already satisfied: python-dateutil>=2.7 in c:\\users\\bryan bu\\desktop\\lip-reading\\.virtualenv\\lib\\site-packages (from matplotlib==3.7.1) (2.8.2)\n",
      "Requirement already satisfied: fonttools>=4.22.0 in c:\\users\\bryan bu\\desktop\\lip-reading\\.virtualenv\\lib\\site-packages (from matplotlib==3.7.1) (4.39.4)\n",
      "Requirement already satisfied: kiwisolver>=1.0.1 in c:\\users\\bryan bu\\desktop\\lip-reading\\.virtualenv\\lib\\site-packages (from matplotlib==3.7.1) (1.4.4)\n",
      "Requirement already satisfied: pyparsing>=2.3.1 in c:\\users\\bryan bu\\desktop\\lip-reading\\.virtualenv\\lib\\site-packages (from matplotlib==3.7.1) (3.0.9)\n",
      "Requirement already satisfied: importlib-resources>=3.2.0 in c:\\users\\bryan bu\\desktop\\lip-reading\\.virtualenv\\lib\\site-packages (from matplotlib==3.7.1) (5.12.0)\n",
      "Requirement already satisfied: pillow>=6.2.0 in c:\\users\\bryan bu\\desktop\\lip-reading\\.virtualenv\\lib\\site-packages (from matplotlib==3.7.1) (9.5.0)\n",
      "Requirement already satisfied: cycler>=0.10 in c:\\users\\bryan bu\\desktop\\lip-reading\\.virtualenv\\lib\\site-packages (from matplotlib==3.7.1) (0.11.0)\n",
      "Requirement already satisfied: requests[socks] in c:\\users\\bryan bu\\desktop\\lip-reading\\.virtualenv\\lib\\site-packages (from gdown==4.7.1) (2.30.0)\n",
      "Requirement already satisfied: beautifulsoup4 in c:\\users\\bryan bu\\desktop\\lip-reading\\.virtualenv\\lib\\site-packages (from gdown==4.7.1) (4.12.2)\n",
      "Requirement already satisfied: six in c:\\users\\bryan bu\\desktop\\lip-reading\\.virtualenv\\lib\\site-packages (from gdown==4.7.1) (1.16.0)\n",
      "Requirement already satisfied: filelock in c:\\users\\bryan bu\\desktop\\lip-reading\\.virtualenv\\lib\\site-packages (from gdown==4.7.1) (3.12.0)\n",
      "Requirement already satisfied: tqdm in c:\\users\\bryan bu\\desktop\\lip-reading\\.virtualenv\\lib\\site-packages (from gdown==4.7.1) (4.65.0)\n",
      "Requirement already satisfied: tensorflow-io-gcs-filesystem>=0.23.1 in c:\\users\\bryan bu\\desktop\\lip-reading\\.virtualenv\\lib\\site-packages (from tensorflow==2.10.1) (0.31.0)\n",
      "Requirement already satisfied: libclang>=13.0.0 in c:\\users\\bryan bu\\desktop\\lip-reading\\.virtualenv\\lib\\site-packages (from tensorflow==2.10.1) (16.0.0)\n",
      "Requirement already satisfied: grpcio<2.0,>=1.24.3 in c:\\users\\bryan bu\\desktop\\lip-reading\\.virtualenv\\lib\\site-packages (from tensorflow==2.10.1) (1.54.2)\n",
      "Requirement already satisfied: tensorboard<2.11,>=2.10 in c:\\users\\bryan bu\\desktop\\lip-reading\\.virtualenv\\lib\\site-packages (from tensorflow==2.10.1) (2.10.1)\n",
      "Requirement already satisfied: keras<2.11,>=2.10.0 in c:\\users\\bryan bu\\desktop\\lip-reading\\.virtualenv\\lib\\site-packages (from tensorflow==2.10.1) (2.10.0)\n",
      "Requirement already satisfied: termcolor>=1.1.0 in c:\\users\\bryan bu\\desktop\\lip-reading\\.virtualenv\\lib\\site-packages (from tensorflow==2.10.1) (2.3.0)\n",
      "Requirement already satisfied: absl-py>=1.0.0 in c:\\users\\bryan bu\\desktop\\lip-reading\\.virtualenv\\lib\\site-packages (from tensorflow==2.10.1) (1.4.0)\n",
      "Requirement already satisfied: protobuf<3.20,>=3.9.2 in c:\\users\\bryan bu\\desktop\\lip-reading\\.virtualenv\\lib\\site-packages (from tensorflow==2.10.1) (3.19.6)\n",
      "Requirement already satisfied: keras-preprocessing>=1.1.1 in c:\\users\\bryan bu\\desktop\\lip-reading\\.virtualenv\\lib\\site-packages (from tensorflow==2.10.1) (1.1.2)\n",
      "Requirement already satisfied: wrapt>=1.11.0 in c:\\users\\bryan bu\\desktop\\lip-reading\\.virtualenv\\lib\\site-packages (from tensorflow==2.10.1) (1.15.0)\n",
      "Requirement already satisfied: typing-extensions>=3.6.6 in c:\\users\\bryan bu\\desktop\\lip-reading\\.virtualenv\\lib\\site-packages (from tensorflow==2.10.1) (4.5.0)\n",
      "Requirement already satisfied: flatbuffers>=2.0 in c:\\users\\bryan bu\\desktop\\lip-reading\\.virtualenv\\lib\\site-packages (from tensorflow==2.10.1) (23.5.9)\n",
      "Requirement already satisfied: gast<=0.4.0,>=0.2.1 in c:\\users\\bryan bu\\desktop\\lip-reading\\.virtualenv\\lib\\site-packages (from tensorflow==2.10.1) (0.4.0)\n",
      "Requirement already satisfied: astunparse>=1.6.0 in c:\\users\\bryan bu\\desktop\\lip-reading\\.virtualenv\\lib\\site-packages (from tensorflow==2.10.1) (1.6.3)\n",
      "Requirement already satisfied: opt-einsum>=2.3.2 in c:\\users\\bryan bu\\desktop\\lip-reading\\.virtualenv\\lib\\site-packages (from tensorflow==2.10.1) (3.3.0)\n",
      "Requirement already satisfied: tensorflow-estimator<2.11,>=2.10.0 in c:\\users\\bryan bu\\desktop\\lip-reading\\.virtualenv\\lib\\site-packages (from tensorflow==2.10.1) (2.10.0)\n",
      "Requirement already satisfied: setuptools in c:\\users\\bryan bu\\desktop\\lip-reading\\.virtualenv\\lib\\site-packages (from tensorflow==2.10.1) (56.0.0)\n",
      "Requirement already satisfied: google-pasta>=0.1.1 in c:\\users\\bryan bu\\desktop\\lip-reading\\.virtualenv\\lib\\site-packages (from tensorflow==2.10.1) (0.2.0)\n",
      "Requirement already satisfied: h5py>=2.9.0 in c:\\users\\bryan bu\\desktop\\lip-reading\\.virtualenv\\lib\\site-packages (from tensorflow==2.10.1) (3.8.0)\n",
      "Requirement already satisfied: wheel<1.0,>=0.23.0 in c:\\users\\bryan bu\\desktop\\lip-reading\\.virtualenv\\lib\\site-packages (from astunparse>=1.6.0->tensorflow==2.10.1) (0.40.0)\n",
      "Requirement already satisfied: zipp>=3.1.0 in c:\\users\\bryan bu\\desktop\\lip-reading\\.virtualenv\\lib\\site-packages (from importlib-resources>=3.2.0->matplotlib==3.7.1) (3.15.0)\n",
      "Requirement already satisfied: markdown>=2.6.8 in c:\\users\\bryan bu\\desktop\\lip-reading\\.virtualenv\\lib\\site-packages (from tensorboard<2.11,>=2.10->tensorflow==2.10.1) (3.4.3)\n",
      "Requirement already satisfied: google-auth-oauthlib<0.5,>=0.4.1 in c:\\users\\bryan bu\\desktop\\lip-reading\\.virtualenv\\lib\\site-packages (from tensorboard<2.11,>=2.10->tensorflow==2.10.1) (0.4.6)\n",
      "Requirement already satisfied: tensorboard-data-server<0.7.0,>=0.6.0 in c:\\users\\bryan bu\\desktop\\lip-reading\\.virtualenv\\lib\\site-packages (from tensorboard<2.11,>=2.10->tensorflow==2.10.1) (0.6.1)\n",
      "Requirement already satisfied: werkzeug>=1.0.1 in c:\\users\\bryan bu\\desktop\\lip-reading\\.virtualenv\\lib\\site-packages (from tensorboard<2.11,>=2.10->tensorflow==2.10.1) (2.3.4)\n",
      "Requirement already satisfied: google-auth<3,>=1.6.3 in c:\\users\\bryan bu\\desktop\\lip-reading\\.virtualenv\\lib\\site-packages (from tensorboard<2.11,>=2.10->tensorflow==2.10.1) (2.18.1)\n",
      "Requirement already satisfied: tensorboard-plugin-wit>=1.6.0 in c:\\users\\bryan bu\\desktop\\lip-reading\\.virtualenv\\lib\\site-packages (from tensorboard<2.11,>=2.10->tensorflow==2.10.1) (1.8.1)\n",
      "Requirement already satisfied: pyasn1-modules>=0.2.1 in c:\\users\\bryan bu\\desktop\\lip-reading\\.virtualenv\\lib\\site-packages (from google-auth<3,>=1.6.3->tensorboard<2.11,>=2.10->tensorflow==2.10.1) (0.3.0)\n",
      "Requirement already satisfied: rsa<5,>=3.1.4 in c:\\users\\bryan bu\\desktop\\lip-reading\\.virtualenv\\lib\\site-packages (from google-auth<3,>=1.6.3->tensorboard<2.11,>=2.10->tensorflow==2.10.1) (4.9)\n",
      "Requirement already satisfied: cachetools<6.0,>=2.0.0 in c:\\users\\bryan bu\\desktop\\lip-reading\\.virtualenv\\lib\\site-packages (from google-auth<3,>=1.6.3->tensorboard<2.11,>=2.10->tensorflow==2.10.1) (5.3.0)\n",
      "Requirement already satisfied: urllib3<2.0 in c:\\users\\bryan bu\\desktop\\lip-reading\\.virtualenv\\lib\\site-packages (from google-auth<3,>=1.6.3->tensorboard<2.11,>=2.10->tensorflow==2.10.1) (1.26.15)\n",
      "Requirement already satisfied: requests-oauthlib>=0.7.0 in c:\\users\\bryan bu\\desktop\\lip-reading\\.virtualenv\\lib\\site-packages (from google-auth-oauthlib<0.5,>=0.4.1->tensorboard<2.11,>=2.10->tensorflow==2.10.1) (1.3.1)\n",
      "Requirement already satisfied: importlib-metadata>=4.4 in c:\\users\\bryan bu\\desktop\\lip-reading\\.virtualenv\\lib\\site-packages (from markdown>=2.6.8->tensorboard<2.11,>=2.10->tensorflow==2.10.1) (6.6.0)\n",
      "Requirement already satisfied: pyasn1<0.6.0,>=0.4.6 in c:\\users\\bryan bu\\desktop\\lip-reading\\.virtualenv\\lib\\site-packages (from pyasn1-modules>=0.2.1->google-auth<3,>=1.6.3->tensorboard<2.11,>=2.10->tensorflow==2.10.1) (0.5.0)\n",
      "Requirement already satisfied: certifi>=2017.4.17 in c:\\users\\bryan bu\\desktop\\lip-reading\\.virtualenv\\lib\\site-packages (from requests[socks]->gdown==4.7.1) (2023.5.7)\n",
      "Requirement already satisfied: charset-normalizer<4,>=2 in c:\\users\\bryan bu\\desktop\\lip-reading\\.virtualenv\\lib\\site-packages (from requests[socks]->gdown==4.7.1) (3.1.0)\n",
      "Requirement already satisfied: idna<4,>=2.5 in c:\\users\\bryan bu\\desktop\\lip-reading\\.virtualenv\\lib\\site-packages (from requests[socks]->gdown==4.7.1) (3.4)\n",
      "Requirement already satisfied: oauthlib>=3.0.0 in c:\\users\\bryan bu\\desktop\\lip-reading\\.virtualenv\\lib\\site-packages (from requests-oauthlib>=0.7.0->google-auth-oauthlib<0.5,>=0.4.1->tensorboard<2.11,>=2.10->tensorflow==2.10.1) (3.2.2)\n",
      "Requirement already satisfied: MarkupSafe>=2.1.1 in c:\\users\\bryan bu\\desktop\\lip-reading\\.virtualenv\\lib\\site-packages (from werkzeug>=1.0.1->tensorboard<2.11,>=2.10->tensorflow==2.10.1) (2.1.2)\n",
      "Requirement already satisfied: soupsieve>1.2 in c:\\users\\bryan bu\\desktop\\lip-reading\\.virtualenv\\lib\\site-packages (from beautifulsoup4->gdown==4.7.1) (2.4.1)\n",
      "Requirement already satisfied: PySocks!=1.5.7,>=1.5.6 in c:\\users\\bryan bu\\desktop\\lip-reading\\.virtualenv\\lib\\site-packages (from requests[socks]->gdown==4.7.1) (1.7.1)\n",
      "Requirement already satisfied: colorama in c:\\users\\bryan bu\\desktop\\lip-reading\\.virtualenv\\lib\\site-packages (from tqdm->gdown==4.7.1) (0.4.6)\n"
     ]
    },
    {
     "name": "stderr",
     "output_type": "stream",
     "text": [
      "WARNING: You are using pip version 21.1.1; however, version 23.1.2 is available.\n",
      "You should consider upgrading via the 'c:\\users\\bryan bu\\desktop\\lip-reading\\.virtualenv\\scripts\\python.exe -m pip install --upgrade pip' command.\n"
     ]
    }
   ],
   "source": [
    "!pip install opencv-python==4.7.0.72 matplotlib==3.7.1 imageio==2.28.1 gdown==4.7.1 tensorflow==2.10.1"
   ]
  },
  {
   "cell_type": "code",
   "execution_count": 5,
   "id": "b24af50c-20b8-409d-ad78-30a933fdd669",
   "metadata": {
    "tags": []
   },
   "outputs": [],
   "source": [
    "import os\n",
    "import cv2\n",
    "import tensorflow as tf\n",
    "import numpy as np\n",
    "from typing import List\n",
    "from matplotlib import pyplot as plt\n",
    "import imageio"
   ]
  },
  {
   "cell_type": "code",
   "execution_count": 6,
   "id": "1e3db0b0-e559-4ad6-91fd-e7414b7d75e6",
   "metadata": {},
   "outputs": [
    {
     "name": "stdout",
     "output_type": "stream",
     "text": [
      "Num GPUs: 0\n"
     ]
    }
   ],
   "source": [
    "physical_devices = tf.config.list_physical_devices('GPU')\n",
    "print(\"Num GPUs:\", len(physical_devices))"
   ]
  },
  {
   "cell_type": "code",
   "execution_count": 7,
   "id": "378d045a-3003-4f93-b7d2-a25a97774a68",
   "metadata": {
    "tags": []
   },
   "outputs": [],
   "source": [
    "physical_devices = tf.config.list_physical_devices('GPU')\n",
    "try:\n",
    "    tf.config.experimental.set_memory_growth(physical_devices[0], True)\n",
    "except:\n",
    "    pass"
   ]
  },
  {
   "attachments": {},
   "cell_type": "markdown",
   "id": "7a19e88e-c7b9-45c1-ae1e-f2109329c71b",
   "metadata": {
    "tags": []
   },
   "source": [
    "# 1. Build Data Loading Functions"
   ]
  },
  {
   "cell_type": "code",
   "execution_count": 8,
   "id": "8fb99c90-e05a-437f-839d-6e772f8c1dd5",
   "metadata": {
    "tags": []
   },
   "outputs": [],
   "source": [
    "import gdown"
   ]
  },
  {
   "cell_type": "code",
   "execution_count": 9,
   "id": "c019e4c6-2af3-4160-99ea-5c8cb009f1a7",
   "metadata": {
    "tags": []
   },
   "outputs": [],
   "source": [
    "# url = 'https://drive.google.com/uc?id=1YlvpDLix3S-U8fd-gqRwPcWXAXm8JwjL'\n",
    "# output = 'data.zip'\n",
    "# gdown.download(url, output, quiet=False)\n",
    "# gdown.extractall('data.zip')"
   ]
  },
  {
   "cell_type": "code",
   "execution_count": 10,
   "id": "8548cc59-6dfc-4acc-abc3-3e65212db02e",
   "metadata": {
    "tags": []
   },
   "outputs": [],
   "source": [
    "def load_video(path:str) -> List[float]: \n",
    "\n",
    "    cap = cv2.VideoCapture(path)\n",
    "    frames = []\n",
    "    for _ in range(int(cap.get(cv2.CAP_PROP_FRAME_COUNT))): \n",
    "        ret, frame = cap.read()\n",
    "        frame = tf.image.rgb_to_grayscale(frame)\n",
    "        frames.append(frame[190:236,80:220,:])\n",
    "    cap.release()\n",
    "    \n",
    "    mean = tf.math.reduce_mean(frames)\n",
    "    std = tf.math.reduce_std(tf.cast(frames, tf.float32))\n",
    "    return tf.cast((frames - mean), tf.float32) / std"
   ]
  },
  {
   "cell_type": "code",
   "execution_count": 11,
   "id": "ec735e0b-ec98-4eb0-8f49-c35527d6670a",
   "metadata": {
    "tags": []
   },
   "outputs": [],
   "source": [
    "vocab = [x for x in \"abcdefghijklmnopqrstuvwxyz'?!123456789 \"]"
   ]
  },
  {
   "cell_type": "code",
   "execution_count": 12,
   "id": "be04e972-d7a5-4a72-82d8-a6bdde1f3ce6",
   "metadata": {
    "tags": []
   },
   "outputs": [
    {
     "name": "stdout",
     "output_type": "stream",
     "text": [
      "The vocabulary is: ['', 'a', 'b', 'c', 'd', 'e', 'f', 'g', 'h', 'i', 'j', 'k', 'l', 'm', 'n', 'o', 'p', 'q', 'r', 's', 't', 'u', 'v', 'w', 'x', 'y', 'z', \"'\", '?', '!', '1', '2', '3', '4', '5', '6', '7', '8', '9', ' '] (size =40)\n"
     ]
    }
   ],
   "source": [
    "char_to_num = tf.keras.layers.StringLookup(vocabulary=vocab, oov_token=\"\")\n",
    "num_to_char = tf.keras.layers.StringLookup(\n",
    "    vocabulary=char_to_num.get_vocabulary(), oov_token=\"\", invert=True\n",
    ")\n",
    "\n",
    "print(\n",
    "    f\"The vocabulary is: {char_to_num.get_vocabulary()} \"\n",
    "    f\"(size ={char_to_num.vocabulary_size()})\"\n",
    ")"
   ]
  },
  {
   "cell_type": "code",
   "execution_count": 13,
   "id": "559f7420-6802-45fa-9ca0-b1ff209b461c",
   "metadata": {
    "tags": []
   },
   "outputs": [
    {
     "data": {
      "text/plain": [
       "['',\n",
       " 'a',\n",
       " 'b',\n",
       " 'c',\n",
       " 'd',\n",
       " 'e',\n",
       " 'f',\n",
       " 'g',\n",
       " 'h',\n",
       " 'i',\n",
       " 'j',\n",
       " 'k',\n",
       " 'l',\n",
       " 'm',\n",
       " 'n',\n",
       " 'o',\n",
       " 'p',\n",
       " 'q',\n",
       " 'r',\n",
       " 's',\n",
       " 't',\n",
       " 'u',\n",
       " 'v',\n",
       " 'w',\n",
       " 'x',\n",
       " 'y',\n",
       " 'z',\n",
       " \"'\",\n",
       " '?',\n",
       " '!',\n",
       " '1',\n",
       " '2',\n",
       " '3',\n",
       " '4',\n",
       " '5',\n",
       " '6',\n",
       " '7',\n",
       " '8',\n",
       " '9',\n",
       " ' ']"
      ]
     },
     "execution_count": 13,
     "metadata": {},
     "output_type": "execute_result"
    }
   ],
   "source": [
    "char_to_num.get_vocabulary()"
   ]
  },
  {
   "cell_type": "code",
   "execution_count": 14,
   "id": "797ff78b-b48f-4e14-bb62-8cd0ebf9501a",
   "metadata": {
    "tags": []
   },
   "outputs": [
    {
     "data": {
      "text/plain": [
       "<tf.Tensor: shape=(4,), dtype=int64, numpy=array([14,  9,  3, 11], dtype=int64)>"
      ]
     },
     "execution_count": 14,
     "metadata": {},
     "output_type": "execute_result"
    }
   ],
   "source": [
    "char_to_num(['n','i','c','k'])"
   ]
  },
  {
   "cell_type": "code",
   "execution_count": 15,
   "id": "8cd7f4f4-ae77-4509-a4f4-c723787ebad1",
   "metadata": {},
   "outputs": [
    {
     "data": {
      "text/plain": [
       "<tf.Tensor: shape=(4,), dtype=string, numpy=array([b'n', b'i', b'c', b'k'], dtype=object)>"
      ]
     },
     "execution_count": 15,
     "metadata": {},
     "output_type": "execute_result"
    }
   ],
   "source": [
    "num_to_char([14,  9,  3, 11])"
   ]
  },
  {
   "cell_type": "code",
   "execution_count": 16,
   "id": "9491bab5-6a3c-4f79-879a-8f9fbe73ae2e",
   "metadata": {
    "tags": []
   },
   "outputs": [],
   "source": [
    "def load_alignments(path:str) -> List[str]: \n",
    "    with open(path, 'r') as f: \n",
    "        lines = f.readlines() \n",
    "    tokens = []\n",
    "    for line in lines:\n",
    "        line = line.split()\n",
    "        if line[2] != 'sil': \n",
    "            tokens = [*tokens,' ',line[2]]\n",
    "    return char_to_num(tf.reshape(tf.strings.unicode_split(tokens, input_encoding='UTF-8'), (-1)))[1:]"
   ]
  },
  {
   "cell_type": "code",
   "execution_count": 17,
   "id": "dd01ca9f-77fb-4643-a2aa-47dd82c5d66b",
   "metadata": {
    "tags": []
   },
   "outputs": [],
   "source": [
    "def load_data(path: str): \n",
    "    path = bytes.decode(path.numpy())\n",
    "    #file_name = path.split('/')[-1].split('.')[0]\n",
    "    # File name splitting for windows\n",
    "    file_name = path.split('\\\\')[-1].split('.')[0]\n",
    "    video_path = os.path.join('data','s1',f'{file_name}.mpg')\n",
    "    alignment_path = os.path.join('data','alignments','s1',f'{file_name}.align')\n",
    "    frames = load_video(video_path) \n",
    "    alignments = load_alignments(alignment_path)\n",
    "    print(type(alignments))\n",
    "    print(alignments)\n",
    "    \n",
    "    return frames, alignments"
   ]
  },
  {
   "cell_type": "code",
   "execution_count": 18,
   "id": "38ce82eb",
   "metadata": {},
   "outputs": [],
   "source": [
    "def load_data_without_alignments(path: str, folder_number): \n",
    "    path = bytes.decode(path.numpy())\n",
    "    #file_name = path.split('/')[-1].split('.')[0]\n",
    "    # File name splitting for windows\n",
    "    file_name = path.split('\\\\')[-1].split('.')[0]\n",
    "    video_path = os.path.join('data',f'{folder_number}',f'{file_name}.mpg')\n",
    "    # alignment_path = os.path.join('data','alignments','s1',f'{file_name}.align')\n",
    "    frames = load_video(video_path) \n",
    "    alignments = tf.zeros([21,])\n",
    "        \n",
    "    return frames, alignments"
   ]
  },
  {
   "cell_type": "code",
   "execution_count": 19,
   "id": "8cb7cc58-31ae-4904-a805-1177a82717d2",
   "metadata": {
    "tags": []
   },
   "outputs": [],
   "source": [
    "test_path = '.\\\\data\\\\s1\\\\bbal6n.mpg'"
   ]
  },
  {
   "cell_type": "code",
   "execution_count": 20,
   "id": "76aa964f-0c84-490d-897a-d00e3966e2c9",
   "metadata": {},
   "outputs": [
    {
     "data": {
      "text/plain": [
       "'bbal6n'"
      ]
     },
     "execution_count": 20,
     "metadata": {},
     "output_type": "execute_result"
    }
   ],
   "source": [
    "tf.convert_to_tensor(test_path).numpy().decode('utf-8').split('\\\\')[-1].split('.')[0]"
   ]
  },
  {
   "cell_type": "code",
   "execution_count": 21,
   "id": "eb602c71-8560-4f9e-b26b-08202febb937",
   "metadata": {
    "scrolled": true,
    "tags": []
   },
   "outputs": [
    {
     "name": "stdout",
     "output_type": "stream",
     "text": [
      "<class 'tensorflow.python.framework.ops.EagerTensor'>\n",
      "tf.Tensor([ 2  9 14 39  2 12 21  5 39  1 20 39 12 39 19  9 24 39 14 15 23], shape=(21,), dtype=int64)\n",
      "Test: [0. 0. 0. 0. 0. 0. 0. 0. 0. 0. 0. 0. 0. 0. 0. 0. 0. 0. 0. 0. 0.], type: <class 'tensorflow.python.framework.ops.EagerTensor'>\n"
     ]
    }
   ],
   "source": [
    "frames, alignments = load_data(tf.convert_to_tensor(test_path))\n",
    "print(f\"Test: {tf.zeros([21,])}, type: {type(tf.zeros([21,]))}\")"
   ]
  },
  {
   "cell_type": "code",
   "execution_count": 22,
   "id": "0e3184a1-6b02-4b4f-84a8-a0a65f951ea2",
   "metadata": {},
   "outputs": [
    {
     "data": {
      "text/plain": [
       "<matplotlib.image.AxesImage at 0x1d26df0f970>"
      ]
     },
     "execution_count": 22,
     "metadata": {},
     "output_type": "execute_result"
    },
    {
     "data": {
      "image/png": "[encoded data removed]",
      "text/plain": [
       "<Figure size 640x480 with 1 Axes>"
      ]
     },
     "metadata": {},
     "output_type": "display_data"
    }
   ],
   "source": [
    "plt.imshow(frames[40])"
   ]
  },
  {
   "cell_type": "code",
   "execution_count": 23,
   "id": "d7ec0833-d54b-4073-84cf-92d011c60ec1",
   "metadata": {},
   "outputs": [
    {
     "data": {
      "text/plain": [
       "<tf.Tensor: shape=(21,), dtype=int64, numpy=\n",
       "array([ 2,  9, 14, 39,  2, 12, 21,  5, 39,  1, 20, 39, 12, 39, 19,  9, 24,\n",
       "       39, 14, 15, 23], dtype=int64)>"
      ]
     },
     "execution_count": 23,
     "metadata": {},
     "output_type": "execute_result"
    }
   ],
   "source": [
    "alignments"
   ]
  },
  {
   "cell_type": "code",
   "execution_count": 24,
   "id": "fe1ad370-b287-4b46-85a2-7c45b0bd9b10",
   "metadata": {},
   "outputs": [
    {
     "data": {
      "text/plain": [
       "<tf.Tensor: shape=(), dtype=string, numpy=b'bin blue at l six now'>"
      ]
     },
     "execution_count": 24,
     "metadata": {},
     "output_type": "execute_result"
    }
   ],
   "source": [
    "tf.strings.reduce_join([bytes.decode(x) for x in num_to_char(alignments.numpy()).numpy()])"
   ]
  },
  {
   "cell_type": "code",
   "execution_count": 25,
   "id": "6871031a-b0ba-4c76-a852-f6329b0f2606",
   "metadata": {
    "tags": []
   },
   "outputs": [],
   "source": [
    "def mappable_function(path:str) ->List[str]:\n",
    "    result = tf.py_function(load_data, [path], (tf.float32, tf.int64))\n",
    "    return result"
   ]
  },
  {
   "attachments": {},
   "cell_type": "markdown",
   "id": "c40a7eb4-0c3e-4eab-9291-5611cb68ce08",
   "metadata": {
    "tags": []
   },
   "source": [
    "# 2. Create Data Pipeline"
   ]
  },
  {
   "cell_type": "code",
   "execution_count": 26,
   "id": "7686355d-45aa-4c85-ad9c-053e6a9b4d81",
   "metadata": {
    "tags": []
   },
   "outputs": [],
   "source": [
    "from matplotlib import pyplot as plt"
   ]
  },
  {
   "cell_type": "code",
   "execution_count": 27,
   "id": "e921cb01",
   "metadata": {},
   "outputs": [],
   "source": [
    "from PIL import Image\n",
    "import numpy as np\n",
    "img = np.zeros((1, 1, 1), dtype=np.float32)\n",
    "img = np.array(img * 255, dtype=np.uint8)\n",
    "img = np.squeeze(img, axis=2) # reduce dimension into (1, 1)\n",
    "img = np.stack((img,) * 3, axis=-1) # convert grayscale to RGB\n",
    "img = Image.fromarray(img)"
   ]
  },
  {
   "cell_type": "code",
   "execution_count": 28,
   "id": "f066fea2-91b1-42ed-a67d-00566a1a53ff",
   "metadata": {
    "tags": []
   },
   "outputs": [],
   "source": [
    "data = tf.data.Dataset.list_files('./data/s1/*.mpg')\n",
    "data = data.shuffle(500, reshuffle_each_iteration=False)\n",
    "data = data.map(mappable_function)\n",
    "data = data.padded_batch(2, padded_shapes=([75,None,None,None],[40]))\n",
    "data = data.prefetch(tf.data.AUTOTUNE)\n",
    "# Added for split \n",
    "train = data.take(450)\n",
    "test = data.skip(450)"
   ]
  },
  {
   "cell_type": "code",
   "execution_count": 29,
   "id": "752dfa0f",
   "metadata": {},
   "outputs": [
    {
     "data": {
      "text/plain": [
       "50"
      ]
     },
     "execution_count": 29,
     "metadata": {},
     "output_type": "execute_result"
    }
   ],
   "source": [
    "data = tf.data.Dataset.list_files('./data/s1/*.mpg')\n",
    "data = data.shuffle(500, reshuffle_each_iteration=False)\n",
    "data = data.map(mappable_function)\n",
    "data = data.padded_batch(2, padded_shapes=([75,None,None,None],[40]))\n",
    "data = data.prefetch(tf.data.AUTOTUNE)\n",
    "# Added for split \n",
    "train = data.take(450)\n",
    "test = data.skip(450)\n",
    "len(test)"
   ]
  },
  {
   "cell_type": "code",
   "execution_count": 30,
   "id": "5281bde8-fdc8-4da1-bd55-5a7929a9e80c",
   "metadata": {},
   "outputs": [
    {
     "name": "stdout",
     "output_type": "stream",
     "text": [
      "<class 'tensorflow.python.framework.ops.EagerTensor'>\n",
      "tf.Tensor(\n",
      "[16 12  1  3  5 39  7 18  5  5 14 39 23  9 20  8 39 26 39 26  5 18 15 39\n",
      " 16 12  5  1 19  5], shape=(30,), dtype=int64)\n",
      "<class 'tensorflow.python.framework.ops.EagerTensor'>\n",
      "tf.Tensor(\n",
      "[12  1 25 39  2 12 21  5 39 23  9 20  8 39 25 39 14  9 14  5 39  1  7  1\n",
      "  9 14], shape=(26,), dtype=int64)\n",
      "<class 'tensorflow.python.framework.ops.EagerTensor'>\n",
      "tf.Tensor([ 2  9 14 39 23  8  9 20  5 39  1 20 39  7 39  6  9 22  5 39 19 15 15 14], shape=(24,), dtype=int64)\n"
     ]
    }
   ],
   "source": [
    "frames, alignments = data.as_numpy_iterator().next()"
   ]
  },
  {
   "cell_type": "code",
   "execution_count": 31,
   "id": "cbebe683-6afd-47fd-bba4-c83b4b13bb32",
   "metadata": {},
   "outputs": [
    {
     "data": {
      "text/plain": [
       "2"
      ]
     },
     "execution_count": 31,
     "metadata": {},
     "output_type": "execute_result"
    }
   ],
   "source": [
    "len(frames)"
   ]
  },
  {
   "cell_type": "code",
   "execution_count": 32,
   "id": "5cf2d676-93a9-434c-b3c7-bdcc2577b2e7",
   "metadata": {
    "tags": []
   },
   "outputs": [],
   "source": [
    "sample = data.as_numpy_iterator()"
   ]
  },
  {
   "cell_type": "code",
   "execution_count": 33,
   "id": "efa6cd46-7079-46c0-b45b-832f339f6cb0",
   "metadata": {
    "scrolled": true,
    "tags": []
   },
   "outputs": [
    {
     "name": "stdout",
     "output_type": "stream",
     "text": [
      "<class 'tensorflow.python.framework.ops.EagerTensor'>\n",
      "tf.Tensor(\n",
      "[16 12  1  3  5 39  7 18  5  5 14 39  9 14 39  4 39 19  9 24 39 16 12  5\n",
      "  1 19  5], shape=(27,), dtype=int64)\n",
      "<class 'tensorflow.python.framework.ops.EagerTensor'>\n",
      "tf.Tensor(\n",
      "[16 12  1  3  5 39 23  8  9 20  5 39  2 25 39 24 39  5  9  7  8 20 39 14\n",
      " 15 23], shape=(26,), dtype=int64)\n"
     ]
    },
    {
     "data": {
      "text/plain": [
       "array([[[[[ 1.2987053 ],\n",
       "          [ 1.2987053 ],\n",
       "          [ 1.4610435 ],\n",
       "          ...,\n",
       "          [ 0.20292272],\n",
       "          [ 0.16233817],\n",
       "          [ 0.16233817]],\n",
       "\n",
       "         [[ 1.2987053 ],\n",
       "          [ 1.2987053 ],\n",
       "          [ 1.4610435 ],\n",
       "          ...,\n",
       "          [ 0.20292272],\n",
       "          [ 0.16233817],\n",
       "          [ 0.16233817]],\n",
       "\n",
       "         [[ 1.4610435 ],\n",
       "          [ 1.4610435 ],\n",
       "          [ 1.420459  ],\n",
       "          ...,\n",
       "          [ 0.24350725],\n",
       "          [ 0.16233817],\n",
       "          [ 0.16233817]],\n",
       "\n",
       "         ...,\n",
       "\n",
       "         [[ 0.974029  ],\n",
       "          [ 0.974029  ],\n",
       "          [ 0.974029  ],\n",
       "          ...,\n",
       "          [10.308474  ],\n",
       "          [10.308474  ],\n",
       "          [10.308474  ]],\n",
       "\n",
       "         [[ 0.9334445 ],\n",
       "          [ 0.9334445 ],\n",
       "          [ 0.9334445 ],\n",
       "          ...,\n",
       "          [10.308474  ],\n",
       "          [10.308474  ],\n",
       "          [10.308474  ]],\n",
       "\n",
       "         [[ 0.9334445 ],\n",
       "          [ 0.9334445 ],\n",
       "          [ 0.9334445 ],\n",
       "          ...,\n",
       "          [10.308474  ],\n",
       "          [10.308474  ],\n",
       "          [10.267889  ]]],\n",
       "\n",
       "\n",
       "        [[[ 1.3798745 ],\n",
       "          [ 1.3798745 ],\n",
       "          [ 1.4610435 ],\n",
       "          ...,\n",
       "          [ 0.16233817],\n",
       "          [ 0.16233817],\n",
       "          [ 0.16233817]],\n",
       "\n",
       "         [[ 1.3798745 ],\n",
       "          [ 1.3798745 ],\n",
       "          [ 1.4610435 ],\n",
       "          ...,\n",
       "          [ 0.16233817],\n",
       "          [ 0.16233817],\n",
       "          [ 0.16233817]],\n",
       "\n",
       "         [[ 1.420459  ],\n",
       "          [ 1.420459  ],\n",
       "          [ 1.420459  ],\n",
       "          ...,\n",
       "          [ 0.12175363],\n",
       "          [ 0.08116908],\n",
       "          [ 0.12175363]],\n",
       "\n",
       "         ...,\n",
       "\n",
       "         [[ 0.9334445 ],\n",
       "          [ 0.9334445 ],\n",
       "          [ 0.9334445 ],\n",
       "          ...,\n",
       "          [10.308474  ],\n",
       "          [10.308474  ],\n",
       "          [10.308474  ]],\n",
       "\n",
       "         [[ 0.9334445 ],\n",
       "          [ 0.9334445 ],\n",
       "          [ 0.9334445 ],\n",
       "          ...,\n",
       "          [10.308474  ],\n",
       "          [10.308474  ],\n",
       "          [10.267889  ]],\n",
       "\n",
       "         [[ 0.9334445 ],\n",
       "          [ 0.9334445 ],\n",
       "          [ 0.9334445 ],\n",
       "          ...,\n",
       "          [10.308474  ],\n",
       "          [10.267889  ],\n",
       "          [10.267889  ]]],\n",
       "\n",
       "\n",
       "        [[[ 1.420459  ],\n",
       "          [ 1.420459  ],\n",
       "          [ 1.501628  ],\n",
       "          ...,\n",
       "          [ 0.20292272],\n",
       "          [ 0.16233817],\n",
       "          [ 0.16233817]],\n",
       "\n",
       "         [[ 1.420459  ],\n",
       "          [ 1.420459  ],\n",
       "          [ 1.501628  ],\n",
       "          ...,\n",
       "          [ 0.20292272],\n",
       "          [ 0.16233817],\n",
       "          [ 0.16233817]],\n",
       "\n",
       "         [[ 1.4610435 ],\n",
       "          [ 1.4610435 ],\n",
       "          [ 1.3798745 ],\n",
       "          ...,\n",
       "          [ 0.24350725],\n",
       "          [ 0.16233817],\n",
       "          [ 0.16233817]],\n",
       "\n",
       "         ...,\n",
       "\n",
       "         [[ 0.974029  ],\n",
       "          [ 0.974029  ],\n",
       "          [ 0.974029  ],\n",
       "          ...,\n",
       "          [10.308474  ],\n",
       "          [10.308474  ],\n",
       "          [10.308474  ]],\n",
       "\n",
       "         [[ 0.9334445 ],\n",
       "          [ 0.9334445 ],\n",
       "          [ 0.9334445 ],\n",
       "          ...,\n",
       "          [10.308474  ],\n",
       "          [10.308474  ],\n",
       "          [10.308474  ]],\n",
       "\n",
       "         [[ 0.9334445 ],\n",
       "          [ 0.9334445 ],\n",
       "          [ 0.9334445 ],\n",
       "          ...,\n",
       "          [10.308474  ],\n",
       "          [10.308474  ],\n",
       "          [10.267889  ]]],\n",
       "\n",
       "\n",
       "        ...,\n",
       "\n",
       "\n",
       "        [[[ 1.4610435 ],\n",
       "          [ 1.4610435 ],\n",
       "          [ 1.4610435 ],\n",
       "          ...,\n",
       "          [ 0.16233817],\n",
       "          [ 0.12175363],\n",
       "          [ 0.08116908]],\n",
       "\n",
       "         [[ 1.4610435 ],\n",
       "          [ 1.4610435 ],\n",
       "          [ 1.4610435 ],\n",
       "          ...,\n",
       "          [ 0.16233817],\n",
       "          [ 0.12175363],\n",
       "          [ 0.08116908]],\n",
       "\n",
       "         [[ 1.3798745 ],\n",
       "          [ 1.3798745 ],\n",
       "          [ 1.3798745 ],\n",
       "          ...,\n",
       "          [ 0.16233817],\n",
       "          [ 0.16233817],\n",
       "          [ 0.16233817]],\n",
       "\n",
       "         ...,\n",
       "\n",
       "         [[ 0.9334445 ],\n",
       "          [ 0.9334445 ],\n",
       "          [ 0.9334445 ],\n",
       "          ...,\n",
       "          [10.227304  ],\n",
       "          [10.227304  ],\n",
       "          [10.227304  ]],\n",
       "\n",
       "         [[ 0.9334445 ],\n",
       "          [ 0.9334445 ],\n",
       "          [ 0.9334445 ],\n",
       "          ...,\n",
       "          [10.227304  ],\n",
       "          [10.227304  ],\n",
       "          [10.227304  ]],\n",
       "\n",
       "         [[ 0.9334445 ],\n",
       "          [ 0.9334445 ],\n",
       "          [ 0.9334445 ],\n",
       "          ...,\n",
       "          [10.227304  ],\n",
       "          [10.227304  ],\n",
       "          [10.227304  ]]],\n",
       "\n",
       "\n",
       "        [[[ 1.4610435 ],\n",
       "          [ 1.4610435 ],\n",
       "          [ 1.4610435 ],\n",
       "          ...,\n",
       "          [ 0.16233817],\n",
       "          [ 0.16233817],\n",
       "          [ 0.12175363]],\n",
       "\n",
       "         [[ 1.4610435 ],\n",
       "          [ 1.4610435 ],\n",
       "          [ 1.4610435 ],\n",
       "          ...,\n",
       "          [ 0.16233817],\n",
       "          [ 0.16233817],\n",
       "          [ 0.12175363]],\n",
       "\n",
       "         [[ 1.420459  ],\n",
       "          [ 1.420459  ],\n",
       "          [ 1.4610435 ],\n",
       "          ...,\n",
       "          [ 0.12175363],\n",
       "          [ 0.12175363],\n",
       "          [ 0.16233817]],\n",
       "\n",
       "         ...,\n",
       "\n",
       "         [[ 1.0146135 ],\n",
       "          [ 0.9334445 ],\n",
       "          [ 0.9334445 ],\n",
       "          ...,\n",
       "          [10.227304  ],\n",
       "          [10.227304  ],\n",
       "          [10.227304  ]],\n",
       "\n",
       "         [[ 1.0146135 ],\n",
       "          [ 0.9334445 ],\n",
       "          [ 0.9334445 ],\n",
       "          ...,\n",
       "          [10.227304  ],\n",
       "          [10.227304  ],\n",
       "          [10.227304  ]],\n",
       "\n",
       "         [[ 0.974029  ],\n",
       "          [ 0.9334445 ],\n",
       "          [ 0.9334445 ],\n",
       "          ...,\n",
       "          [10.227304  ],\n",
       "          [10.227304  ],\n",
       "          [10.227304  ]]],\n",
       "\n",
       "\n",
       "        [[[ 1.4610435 ],\n",
       "          [ 1.4610435 ],\n",
       "          [ 1.501628  ],\n",
       "          ...,\n",
       "          [ 0.12175363],\n",
       "          [ 0.12175363],\n",
       "          [ 0.08116908]],\n",
       "\n",
       "         [[ 1.4610435 ],\n",
       "          [ 1.4610435 ],\n",
       "          [ 1.501628  ],\n",
       "          ...,\n",
       "          [ 0.12175363],\n",
       "          [ 0.12175363],\n",
       "          [ 0.08116908]],\n",
       "\n",
       "         [[ 1.4610435 ],\n",
       "          [ 1.4610435 ],\n",
       "          [ 1.4610435 ],\n",
       "          ...,\n",
       "          [ 0.16233817],\n",
       "          [ 0.12175363],\n",
       "          [ 0.12175363]],\n",
       "\n",
       "         ...,\n",
       "\n",
       "         [[ 1.0146135 ],\n",
       "          [ 0.9334445 ],\n",
       "          [ 0.9334445 ],\n",
       "          ...,\n",
       "          [10.227304  ],\n",
       "          [10.227304  ],\n",
       "          [10.227304  ]],\n",
       "\n",
       "         [[ 1.0146135 ],\n",
       "          [ 0.9334445 ],\n",
       "          [ 0.9334445 ],\n",
       "          ...,\n",
       "          [10.227304  ],\n",
       "          [10.227304  ],\n",
       "          [10.227304  ]],\n",
       "\n",
       "         [[ 0.974029  ],\n",
       "          [ 0.9334445 ],\n",
       "          [ 0.9334445 ],\n",
       "          ...,\n",
       "          [10.227304  ],\n",
       "          [10.227304  ],\n",
       "          [10.227304  ]]]],\n",
       "\n",
       "\n",
       "\n",
       "       [[[[ 1.5698216 ],\n",
       "          [ 1.5305761 ],\n",
       "          [ 1.0988752 ],\n",
       "          ...,\n",
       "          [ 0.3139643 ],\n",
       "          [ 0.1962277 ],\n",
       "          [ 0.1962277 ]],\n",
       "\n",
       "         [[ 1.452085  ],\n",
       "          [ 1.5305761 ],\n",
       "          [ 1.0596296 ],\n",
       "          ...,\n",
       "          [ 0.3139643 ],\n",
       "          [ 0.1962277 ],\n",
       "          [ 0.1962277 ]],\n",
       "\n",
       "         [[ 1.5305761 ],\n",
       "          [ 1.5305761 ],\n",
       "          [ 1.452085  ],\n",
       "          ...,\n",
       "          [ 0.23547325],\n",
       "          [ 0.23547325],\n",
       "          [ 0.23547325]],\n",
       "\n",
       "         ...,\n",
       "\n",
       "         [[ 1.1381207 ],\n",
       "          [ 1.0988752 ],\n",
       "          [ 1.0988752 ],\n",
       "          ...,\n",
       "          [ 0.03924554],\n",
       "          [ 0.        ],\n",
       "          [ 0.        ]],\n",
       "\n",
       "         [[ 1.0988752 ],\n",
       "          [ 1.0988752 ],\n",
       "          [ 1.0988752 ],\n",
       "          ...,\n",
       "          [ 0.03924554],\n",
       "          [ 0.        ],\n",
       "          [ 0.        ]],\n",
       "\n",
       "         [[ 1.0988752 ],\n",
       "          [ 1.0988752 ],\n",
       "          [ 1.0988752 ],\n",
       "          ...,\n",
       "          [ 0.03924554],\n",
       "          [ 0.        ],\n",
       "          [ 0.        ]]],\n",
       "\n",
       "\n",
       "        [[[ 1.5305761 ],\n",
       "          [ 1.452085  ],\n",
       "          [ 1.2951028 ],\n",
       "          ...,\n",
       "          [ 0.23547325],\n",
       "          [ 0.15698215],\n",
       "          [ 0.15698215]],\n",
       "\n",
       "         [[ 1.3343483 ],\n",
       "          [ 1.4913305 ],\n",
       "          [ 1.2951028 ],\n",
       "          ...,\n",
       "          [ 0.23547325],\n",
       "          [ 0.15698215],\n",
       "          [ 0.15698215]],\n",
       "\n",
       "         [[ 1.452085  ],\n",
       "          [ 1.452085  ],\n",
       "          [ 1.3735939 ],\n",
       "          ...,\n",
       "          [ 0.23547325],\n",
       "          [ 0.23547325],\n",
       "          [ 0.23547325]],\n",
       "\n",
       "         ...,\n",
       "\n",
       "         [[ 1.0988752 ],\n",
       "          [ 1.0596296 ],\n",
       "          [ 1.0596296 ],\n",
       "          ...,\n",
       "          [ 0.03924554],\n",
       "          [ 0.        ],\n",
       "          [ 0.        ]],\n",
       "\n",
       "         [[ 1.0596296 ],\n",
       "          [ 1.0596296 ],\n",
       "          [ 1.0596296 ],\n",
       "          ...,\n",
       "          [ 0.        ],\n",
       "          [10.007613  ],\n",
       "          [10.007613  ]],\n",
       "\n",
       "         [[ 1.0596296 ],\n",
       "          [ 1.0596296 ],\n",
       "          [ 1.0203841 ],\n",
       "          ...,\n",
       "          [ 0.        ],\n",
       "          [10.007613  ],\n",
       "          [10.007613  ]]],\n",
       "\n",
       "\n",
       "        [[[ 1.5305761 ],\n",
       "          [ 1.3735939 ],\n",
       "          [ 1.2951028 ],\n",
       "          ...,\n",
       "          [ 0.3139643 ],\n",
       "          [ 0.23547325],\n",
       "          [ 0.23547325]],\n",
       "\n",
       "         [[ 1.3343483 ],\n",
       "          [ 1.4913305 ],\n",
       "          [ 1.1773663 ],\n",
       "          ...,\n",
       "          [ 0.3139643 ],\n",
       "          [ 0.23547325],\n",
       "          [ 0.23547325]],\n",
       "\n",
       "         [[ 1.5305761 ],\n",
       "          [ 1.5305761 ],\n",
       "          [ 1.452085  ],\n",
       "          ...,\n",
       "          [ 0.23547325],\n",
       "          [ 0.23547325],\n",
       "          [ 0.23547325]],\n",
       "\n",
       "         ...,\n",
       "\n",
       "         [[ 1.0988752 ],\n",
       "          [ 1.0988752 ],\n",
       "          [ 1.0596296 ],\n",
       "          ...,\n",
       "          [ 0.03924554],\n",
       "          [ 0.        ],\n",
       "          [ 0.        ]],\n",
       "\n",
       "         [[ 1.0596296 ],\n",
       "          [ 1.0596296 ],\n",
       "          [ 1.0596296 ],\n",
       "          ...,\n",
       "          [ 0.        ],\n",
       "          [10.007613  ],\n",
       "          [10.007613  ]],\n",
       "\n",
       "         [[ 1.0596296 ],\n",
       "          [ 1.0596296 ],\n",
       "          [ 1.0596296 ],\n",
       "          ...,\n",
       "          [ 0.        ],\n",
       "          [10.007613  ],\n",
       "          [10.007613  ]]],\n",
       "\n",
       "\n",
       "        ...,\n",
       "\n",
       "\n",
       "        [[[ 1.4913305 ],\n",
       "          [ 1.5305761 ],\n",
       "          [ 1.3343483 ],\n",
       "          ...,\n",
       "          [ 0.1962277 ],\n",
       "          [ 0.1962277 ],\n",
       "          [ 0.1962277 ]],\n",
       "\n",
       "         [[ 1.3343483 ],\n",
       "          [ 1.452085  ],\n",
       "          [ 1.1773663 ],\n",
       "          ...,\n",
       "          [ 0.1962277 ],\n",
       "          [ 0.1962277 ],\n",
       "          [ 0.1962277 ]],\n",
       "\n",
       "         [[ 1.3735939 ],\n",
       "          [ 1.3735939 ],\n",
       "          [ 1.2951028 ],\n",
       "          ...,\n",
       "          [ 0.3139643 ],\n",
       "          [ 0.2747188 ],\n",
       "          [ 0.2747188 ]],\n",
       "\n",
       "         ...,\n",
       "\n",
       "         [[ 1.0596296 ],\n",
       "          [ 1.0596296 ],\n",
       "          [ 1.0203841 ],\n",
       "          ...,\n",
       "          [ 0.        ],\n",
       "          [ 0.        ],\n",
       "          [ 0.        ]],\n",
       "\n",
       "         [[ 1.0596296 ],\n",
       "          [ 1.0596296 ],\n",
       "          [ 1.0203841 ],\n",
       "          ...,\n",
       "          [ 0.        ],\n",
       "          [ 0.        ],\n",
       "          [10.007613  ]],\n",
       "\n",
       "         [[ 1.0596296 ],\n",
       "          [ 1.0596296 ],\n",
       "          [ 0.9811385 ],\n",
       "          ...,\n",
       "          [ 0.        ],\n",
       "          [10.007613  ],\n",
       "          [10.007613  ]]],\n",
       "\n",
       "\n",
       "        [[[ 1.4913305 ],\n",
       "          [ 1.3343483 ],\n",
       "          [ 1.2558572 ],\n",
       "          ...,\n",
       "          [ 0.1962277 ],\n",
       "          [ 0.15698215],\n",
       "          [ 0.15698215]],\n",
       "\n",
       "         [[ 1.2558572 ],\n",
       "          [ 1.3343483 ],\n",
       "          [ 1.0596296 ],\n",
       "          ...,\n",
       "          [ 0.2747188 ],\n",
       "          [ 0.23547325],\n",
       "          [ 0.23547325]],\n",
       "\n",
       "         [[ 1.3735939 ],\n",
       "          [ 1.3735939 ],\n",
       "          [ 1.3343483 ],\n",
       "          ...,\n",
       "          [ 0.15698215],\n",
       "          [ 0.15698215],\n",
       "          [ 0.15698215]],\n",
       "\n",
       "         ...,\n",
       "\n",
       "         [[ 1.0596296 ],\n",
       "          [ 1.0596296 ],\n",
       "          [ 1.0203841 ],\n",
       "          ...,\n",
       "          [ 0.        ],\n",
       "          [ 0.        ],\n",
       "          [10.007613  ]],\n",
       "\n",
       "         [[ 1.0596296 ],\n",
       "          [ 1.0596296 ],\n",
       "          [ 1.0203841 ],\n",
       "          ...,\n",
       "          [ 0.        ],\n",
       "          [10.007613  ],\n",
       "          [10.007613  ]],\n",
       "\n",
       "         [[ 1.0596296 ],\n",
       "          [ 1.0596296 ],\n",
       "          [ 0.9811385 ],\n",
       "          ...,\n",
       "          [10.007613  ],\n",
       "          [10.007613  ],\n",
       "          [10.007613  ]]],\n",
       "\n",
       "\n",
       "        [[[ 1.5305761 ],\n",
       "          [ 1.3735939 ],\n",
       "          [ 1.2558572 ],\n",
       "          ...,\n",
       "          [ 0.23547325],\n",
       "          [ 0.1962277 ],\n",
       "          [ 0.1962277 ]],\n",
       "\n",
       "         [[ 1.2951028 ],\n",
       "          [ 1.3735939 ],\n",
       "          [ 1.0596296 ],\n",
       "          ...,\n",
       "          [ 0.3139643 ],\n",
       "          [ 0.2747188 ],\n",
       "          [ 0.2747188 ]],\n",
       "\n",
       "         [[ 1.3735939 ],\n",
       "          [ 1.3343483 ],\n",
       "          [ 1.2951028 ],\n",
       "          ...,\n",
       "          [ 0.1962277 ],\n",
       "          [ 0.1962277 ],\n",
       "          [ 0.1962277 ]],\n",
       "\n",
       "         ...,\n",
       "\n",
       "         [[ 1.0596296 ],\n",
       "          [ 1.0596296 ],\n",
       "          [ 1.0596296 ],\n",
       "          ...,\n",
       "          [ 0.        ],\n",
       "          [ 0.        ],\n",
       "          [10.007613  ]],\n",
       "\n",
       "         [[ 1.0596296 ],\n",
       "          [ 1.0596296 ],\n",
       "          [ 1.0596296 ],\n",
       "          ...,\n",
       "          [ 0.        ],\n",
       "          [10.007613  ],\n",
       "          [10.007613  ]],\n",
       "\n",
       "         [[ 1.0596296 ],\n",
       "          [ 1.0596296 ],\n",
       "          [ 1.0203841 ],\n",
       "          ...,\n",
       "          [10.007613  ],\n",
       "          [10.007613  ],\n",
       "          [10.007613  ]]]]], dtype=float32)"
      ]
     },
     "execution_count": 33,
     "metadata": {},
     "output_type": "execute_result"
    }
   ],
   "source": [
    "val = sample.next(); val[0]"
   ]
  },
  {
   "cell_type": "code",
   "execution_count": 34,
   "id": "96b1b886",
   "metadata": {},
   "outputs": [
    {
     "name": "stdout",
     "output_type": "stream",
     "text": [
      "<class 'tensorflow.python.framework.ops.EagerTensor'>\n",
      "tf.Tensor([12  1 25 39 18  5  4 39  1 20 39 11 39 19  5 22  5 14 39 19 15 15 14], shape=(23,), dtype=int64)\n"
     ]
    }
   ],
   "source": [
    "from PIL import Image\n",
    "import numpy as np\n",
    "\n",
    "img = np.zeros((1, 1, 1), dtype=np.float32)\n",
    "img = np.array(img * 255, dtype=np.uint8)\n",
    "img = np.squeeze(img, axis=2) # reduce dimension into (1, 1)\n",
    "img = np.stack((img,) * 3, axis=-1) # convert grayscale to RGB\n",
    "img = Image.fromarray(img)\n",
    "\n",
    "import imageio\n",
    "\n",
    "imageio.mimsave('./animation.gif', [np.array(img)], duration=100)"
   ]
  },
  {
   "cell_type": "code",
   "execution_count": 35,
   "id": "c33a87a2-d5e0-4ec9-b174-73ebf41bf03a",
   "metadata": {
    "tags": []
   },
   "outputs": [
    {
     "name": "stdout",
     "output_type": "stream",
     "text": [
      "<class 'tensorflow.python.framework.ops.EagerTensor'>\n",
      "tf.Tensor(\n",
      "[16 12  1  3  5 39  7 18  5  5 14 39  9 14 39  4 39  6 15 21 18 39 14 15\n",
      " 23], shape=(25,), dtype=int64)\n"
     ]
    },
    {
     "data": {
      "text/plain": [
       "<matplotlib.image.AxesImage at 0x1d26ef74640>"
      ]
     },
     "execution_count": 35,
     "metadata": {},
     "output_type": "execute_result"
    },
    {
     "data": {
      "image/png": "[encoded data removed]",
      "text/plain": [
       "<Figure size 640x480 with 1 Axes>"
      ]
     },
     "metadata": {},
     "output_type": "display_data"
    }
   ],
   "source": [
    "# 0:videos, 0: 1st video out of the batch,  0: return the first frame in the video \n",
    "plt.imshow(val[0][0][35])"
   ]
  },
  {
   "cell_type": "code",
   "execution_count": 36,
   "id": "84593332-133c-4205-b7a6-8e235d5e2b3b",
   "metadata": {
    "tags": []
   },
   "outputs": [
    {
     "data": {
      "text/plain": [
       "<tf.Tensor: shape=(), dtype=string, numpy=b'place green in d six please'>"
      ]
     },
     "execution_count": 36,
     "metadata": {},
     "output_type": "execute_result"
    }
   ],
   "source": [
    "tf.strings.reduce_join([num_to_char(word) for word in val[1][0]])"
   ]
  },
  {
   "attachments": {},
   "cell_type": "markdown",
   "id": "0f47733c-83bc-465c-b118-b198b492ad37",
   "metadata": {
    "tags": []
   },
   "source": [
    "# 3. Design the Deep Neural Network"
   ]
  },
  {
   "cell_type": "code",
   "execution_count": 37,
   "id": "d8e9a497-191b-4842-afbd-26f5e13c43ba",
   "metadata": {
    "tags": []
   },
   "outputs": [],
   "source": [
    "from tensorflow.keras.models import Sequential \n",
    "from tensorflow.keras.layers import Conv3D, LSTM, Dense, Dropout, Bidirectional, MaxPool3D, Activation, Reshape, SpatialDropout3D, BatchNormalization, TimeDistributed, Flatten\n",
    "from tensorflow.keras.optimizers import Adam\n",
    "from tensorflow.keras.callbacks import ModelCheckpoint, LearningRateScheduler"
   ]
  },
  {
   "cell_type": "code",
   "execution_count": 38,
   "id": "3f753ed2-70b9-4236-8c1c-08ca065dc8bf",
   "metadata": {},
   "outputs": [
    {
     "name": "stdout",
     "output_type": "stream",
     "text": [
      "<class 'tensorflow.python.framework.ops.EagerTensor'>\n",
      "tf.Tensor(\n",
      "[16 12  1  3  5 39  2 12 21  5 39  1 20 39 16 39 26  5 18 15 39 16 12  5\n",
      "  1 19  5], shape=(27,), dtype=int64)\n",
      "<class 'tensorflow.python.framework.ops.EagerTensor'>\n",
      "tf.Tensor([16 12  1  3  5 39  7 18  5  5 14 39  9 14 39 17 39 20 23 15 39 14 15 23], shape=(24,), dtype=int64)\n",
      "<class 'tensorflow.python.framework.ops.EagerTensor'>\n",
      "tf.Tensor([ 2  9 14 39 18  5  4 39 23  9 20  8 39 14 39 26  5 18 15 39 14 15 23], shape=(23,), dtype=int64)\n"
     ]
    },
    {
     "data": {
      "text/plain": [
       "(75, 46, 140, 1)"
      ]
     },
     "execution_count": 38,
     "metadata": {},
     "output_type": "execute_result"
    }
   ],
   "source": [
    "data.as_numpy_iterator().next()[0][0].shape"
   ]
  },
  {
   "cell_type": "code",
   "execution_count": 39,
   "id": "f9171056-a352-491a-9ed9-92b28ced268e",
   "metadata": {
    "tags": []
   },
   "outputs": [],
   "source": [
    "model = Sequential()\n",
    "model.add(Conv3D(128, 3, input_shape=(75,46,140,1), padding='same'))\n",
    "model.add(Activation('relu'))\n",
    "model.add(MaxPool3D((1,2,2)))\n",
    "\n",
    "model.add(Conv3D(256, 3, padding='same'))\n",
    "model.add(Activation('relu'))\n",
    "model.add(MaxPool3D((1,2,2)))\n",
    "\n",
    "model.add(Conv3D(75, 3, padding='same'))\n",
    "model.add(Activation('relu'))\n",
    "model.add(MaxPool3D((1,2,2)))\n",
    "\n",
    "model.add(TimeDistributed(Flatten()))\n",
    "\n",
    "model.add(Bidirectional(LSTM(128, kernel_initializer='Orthogonal', return_sequences=True)))\n",
    "model.add(Dropout(.5))\n",
    "\n",
    "model.add(Bidirectional(LSTM(128, kernel_initializer='Orthogonal', return_sequences=True)))\n",
    "model.add(Dropout(.5))\n",
    "\n",
    "model.add(Dense(char_to_num.vocabulary_size()+1, kernel_initializer='he_normal', activation='softmax'))"
   ]
  },
  {
   "cell_type": "code",
   "execution_count": 40,
   "id": "78851825-2bcd-42a9-b7f2-28bb5a6bf43a",
   "metadata": {
    "collapsed": true,
    "jupyter": {
     "outputs_hidden": true
    },
    "tags": []
   },
   "outputs": [
    {
     "name": "stdout",
     "output_type": "stream",
     "text": [
      "Model: \"sequential\"\n",
      "_________________________________________________________________\n",
      " Layer (type)                Output Shape              Param #   \n",
      "=================================================================\n",
      " conv3d (Conv3D)             (None, 75, 46, 140, 128)  3584      \n",
      "                                                                 \n",
      " activation (Activation)     (None, 75, 46, 140, 128)  0         \n",
      "                                                                 \n",
      " max_pooling3d (MaxPooling3D  (None, 75, 23, 70, 128)  0         \n",
      " )                                                               \n",
      "                                                                 \n",
      " conv3d_1 (Conv3D)           (None, 75, 23, 70, 256)   884992    \n",
      "                                                                 \n",
      " activation_1 (Activation)   (None, 75, 23, 70, 256)   0         \n",
      "                                                                 \n",
      " max_pooling3d_1 (MaxPooling  (None, 75, 11, 35, 256)  0         \n",
      " 3D)                                                             \n",
      "                                                                 \n",
      " conv3d_2 (Conv3D)           (None, 75, 11, 35, 75)    518475    \n",
      "                                                                 \n",
      " activation_2 (Activation)   (None, 75, 11, 35, 75)    0         \n",
      "                                                                 \n",
      " max_pooling3d_2 (MaxPooling  (None, 75, 5, 17, 75)    0         \n",
      " 3D)                                                             \n",
      "                                                                 \n",
      " time_distributed (TimeDistr  (None, 75, 6375)         0         \n",
      " ibuted)                                                         \n",
      "                                                                 \n",
      " bidirectional (Bidirectiona  (None, 75, 256)          6660096   \n",
      " l)                                                              \n",
      "                                                                 \n",
      " dropout (Dropout)           (None, 75, 256)           0         \n",
      "                                                                 \n",
      " bidirectional_1 (Bidirectio  (None, 75, 256)          394240    \n",
      " nal)                                                            \n",
      "                                                                 \n",
      " dropout_1 (Dropout)         (None, 75, 256)           0         \n",
      "                                                                 \n",
      " dense (Dense)               (None, 75, 41)            10537     \n",
      "                                                                 \n",
      "=================================================================\n",
      "Total params: 8,471,924\n",
      "Trainable params: 8,471,924\n",
      "Non-trainable params: 0\n",
      "_________________________________________________________________\n"
     ]
    }
   ],
   "source": [
    "model.summary()"
   ]
  },
  {
   "cell_type": "code",
   "execution_count": 41,
   "id": "f4b4798c-a65a-4c47-9e2a-3b09dc98d320",
   "metadata": {},
   "outputs": [
    {
     "data": {
      "text/plain": [
       "6375"
      ]
     },
     "execution_count": 41,
     "metadata": {},
     "output_type": "execute_result"
    }
   ],
   "source": [
    "5*17*75"
   ]
  },
  {
   "cell_type": "code",
   "execution_count": 42,
   "id": "e5c2eae0-c359-41a4-97a0-75c44dccb7d1",
   "metadata": {
    "tags": []
   },
   "outputs": [
    {
     "name": "stdout",
     "output_type": "stream",
     "text": [
      "1/1 [==============================] - 4s 4s/step\n"
     ]
    }
   ],
   "source": [
    "yhat = model.predict(val[0])"
   ]
  },
  {
   "cell_type": "code",
   "execution_count": 68,
   "id": "ffdc7319-0d69-4f7e-a6d4-ce72deb81c0b",
   "metadata": {},
   "outputs": [
    {
     "data": {
      "text/plain": [
       "<tf.Tensor: shape=(), dtype=string, numpy=b'bin   bluue   at   f   twooo  nnooowww'>"
      ]
     },
     "execution_count": 68,
     "metadata": {},
     "output_type": "execute_result"
    }
   ],
   "source": [
    "tf.strings.reduce_join([num_to_char(x) for x in tf.argmax(yhat[0],axis=1)])"
   ]
  },
  {
   "cell_type": "code",
   "execution_count": 69,
   "id": "6ed47531-8317-4255-9a12-b757642258e6",
   "metadata": {
    "tags": []
   },
   "outputs": [
    {
     "data": {
      "text/plain": [
       "<tf.Tensor: shape=(), dtype=string, numpy=b'bin   bluue   at   f   twooo  nnooowww'>"
      ]
     },
     "execution_count": 69,
     "metadata": {},
     "output_type": "execute_result"
    }
   ],
   "source": [
    "tf.strings.reduce_join([num_to_char(tf.argmax(x)) for x in yhat[0]])"
   ]
  },
  {
   "cell_type": "code",
   "execution_count": 45,
   "id": "7c37b9b9-5298-4038-9c33-5031d1b457f0",
   "metadata": {
    "tags": []
   },
   "outputs": [
    {
     "data": {
      "text/plain": [
       "(None, 75, 46, 140, 1)"
      ]
     },
     "execution_count": 45,
     "metadata": {},
     "output_type": "execute_result"
    }
   ],
   "source": [
    "model.input_shape"
   ]
  },
  {
   "cell_type": "code",
   "execution_count": 46,
   "id": "98b316a4-5322-4782-8e36-4b3c1a696d85",
   "metadata": {
    "tags": []
   },
   "outputs": [
    {
     "data": {
      "text/plain": [
       "(None, 75, 41)"
      ]
     },
     "execution_count": 46,
     "metadata": {},
     "output_type": "execute_result"
    }
   ],
   "source": [
    "model.output_shape"
   ]
  },
  {
   "attachments": {},
   "cell_type": "markdown",
   "id": "2ec02176-5c26-46c3-aff7-8352e6563c7d",
   "metadata": {
    "tags": []
   },
   "source": [
    "# 4. Setup Training Options and Train"
   ]
  },
  {
   "cell_type": "code",
   "execution_count": 47,
   "id": "ab015fd0-7fb4-4d5d-9fa2-30a05dbd515a",
   "metadata": {
    "tags": []
   },
   "outputs": [],
   "source": [
    "def scheduler(epoch, lr):\n",
    "    if epoch < 30:\n",
    "        return lr\n",
    "    else:\n",
    "        return lr * tf.math.exp(-0.1)"
   ]
  },
  {
   "cell_type": "code",
   "execution_count": 48,
   "id": "c564d5c9-db54-4e88-b311-9aeab7fb3e69",
   "metadata": {
    "tags": []
   },
   "outputs": [],
   "source": [
    "def CTCLoss(y_true, y_pred):\n",
    "    batch_len = tf.cast(tf.shape(y_true)[0], dtype=\"int64\")\n",
    "    input_length = tf.cast(tf.shape(y_pred)[1], dtype=\"int64\")\n",
    "    label_length = tf.cast(tf.shape(y_true)[1], dtype=\"int64\")\n",
    "\n",
    "    input_length = input_length * tf.ones(shape=(batch_len, 1), dtype=\"int64\")\n",
    "    label_length = label_length * tf.ones(shape=(batch_len, 1), dtype=\"int64\")\n",
    "\n",
    "    loss = tf.keras.backend.ctc_batch_cost(y_true, y_pred, input_length, label_length)\n",
    "    return loss"
   ]
  },
  {
   "cell_type": "code",
   "execution_count": 49,
   "id": "a26dc3fc-a19c-4378-bd8c-e2b597a1d15c",
   "metadata": {
    "tags": []
   },
   "outputs": [],
   "source": [
    "class ProduceExample(tf.keras.callbacks.Callback): \n",
    "    def __init__(self, dataset) -> None: \n",
    "        self.dataset = dataset.as_numpy_iterator()\n",
    "    \n",
    "    def on_epoch_end(self, epoch, logs=None) -> None:\n",
    "        data = self.dataset.next()\n",
    "        yhat = self.model.predict(data[0])\n",
    "        decoded = tf.keras.backend.ctc_decode(yhat, [75,75], greedy=False)[0][0].numpy()\n",
    "        for x in range(len(yhat)):           \n",
    "            print('Original:', tf.strings.reduce_join(num_to_char(data[1][x])).numpy().decode('utf-8'))\n",
    "            print('Prediction:', tf.strings.reduce_join(num_to_char(decoded[x])).numpy().decode('utf-8'))\n",
    "            print('~'*100)"
   ]
  },
  {
   "cell_type": "code",
   "execution_count": 50,
   "id": "04be90d8-2482-46f9-b513-d5f4f8001c7e",
   "metadata": {
    "tags": []
   },
   "outputs": [],
   "source": [
    "model.compile(optimizer=Adam(learning_rate=0.0001), loss=CTCLoss)"
   ]
  },
  {
   "cell_type": "code",
   "execution_count": 51,
   "id": "eab49367-3f1e-4464-ae76-dbd07549d97e",
   "metadata": {
    "tags": []
   },
   "outputs": [],
   "source": [
    "checkpoint_callback = ModelCheckpoint(os.path.join('models','checkpoint'), monitor='loss', save_weights_only=True) "
   ]
  },
  {
   "cell_type": "code",
   "execution_count": 52,
   "id": "e085a632-d464-46ef-8777-959cad4adb2c",
   "metadata": {
    "tags": []
   },
   "outputs": [],
   "source": [
    "schedule_callback = LearningRateScheduler(scheduler)"
   ]
  },
  {
   "cell_type": "code",
   "execution_count": 53,
   "id": "48eca991-90ab-4592-8a79-b50e9ca015b6",
   "metadata": {
    "tags": []
   },
   "outputs": [],
   "source": [
    "example_callback = ProduceExample(test)"
   ]
  },
  {
   "cell_type": "code",
   "execution_count": 54,
   "id": "8ffba483-aa61-4bbe-a15f-a73e1ddf097c",
   "metadata": {
    "tags": []
   },
   "outputs": [],
   "source": [
    "# model.fit(train, validation_data=test, epochs=100, callbacks=[checkpoint_callback, schedule_callback, example_callback])"
   ]
  },
  {
   "attachments": {},
   "cell_type": "markdown",
   "id": "fa8ee94b-89f7-4733-8a0c-a86f86ff590a",
   "metadata": {
    "tags": []
   },
   "source": [
    "# 5. Make a Prediction "
   ]
  },
  {
   "cell_type": "code",
   "execution_count": 55,
   "id": "01fa7204-ce0e-49a8-8dbd-14fe5dfead40",
   "metadata": {
    "tags": []
   },
   "outputs": [],
   "source": [
    "# url = 'https://drive.google.com/uc?id=1vWscXs4Vt0a_1IH1-ct2TCgXAZT-N3_Y'\n",
    "# output = 'checkpoints.zip'\n",
    "# gdown.download(url, output, quiet=False)\n",
    "# gdown.extractall('checkpoints.zip', 'models')"
   ]
  },
  {
   "cell_type": "code",
   "execution_count": 56,
   "id": "247f664d-3c87-4e96-946e-930dad0e1c2c",
   "metadata": {
    "tags": []
   },
   "outputs": [
    {
     "data": {
      "text/plain": [
       "<tensorflow.python.checkpoint.checkpoint.CheckpointLoadStatus at 0x1d27771cb50>"
      ]
     },
     "execution_count": 56,
     "metadata": {},
     "output_type": "execute_result"
    }
   ],
   "source": [
    "model.load_weights('models/checkpoint')"
   ]
  },
  {
   "cell_type": "code",
   "execution_count": 57,
   "id": "7f8d689f-b7bb-443c-9b88-e40c1d800828",
   "metadata": {
    "tags": []
   },
   "outputs": [],
   "source": [
    "test_data = test.as_numpy_iterator()"
   ]
  },
  {
   "cell_type": "code",
   "execution_count": 58,
   "id": "38546dc2-bee9-4837-864b-8a884df40ad7",
   "metadata": {
    "tags": []
   },
   "outputs": [],
   "source": [
    "# sample = test_data.next()"
   ]
  },
  {
   "cell_type": "code",
   "execution_count": 59,
   "id": "a43621f0-229d-4c0d-9554-9c3a3da9c61a",
   "metadata": {
    "tags": []
   },
   "outputs": [],
   "source": [
    "# yhat = model.predict(sample[0])"
   ]
  },
  {
   "cell_type": "code",
   "execution_count": 60,
   "id": "ea462999-f87e-4a7e-a057-5be7b6d8f7d5",
   "metadata": {
    "tags": []
   },
   "outputs": [],
   "source": [
    "# print('~'*100, 'REAL TEXT')\n",
    "# [tf.strings.reduce_join([num_to_char(word) for word in sentence]) for sentence in sample[1]]"
   ]
  },
  {
   "cell_type": "code",
   "execution_count": 61,
   "id": "82bd4c10-dd6e-411e-834b-2a3b43fd12c5",
   "metadata": {
    "tags": []
   },
   "outputs": [],
   "source": [
    "# decoded = tf.keras.backend.ctc_decode(yhat, input_length=[75,75], greedy=True)[0][0].numpy()"
   ]
  },
  {
   "cell_type": "code",
   "execution_count": 62,
   "id": "5d68ac46-c90b-4eab-a709-f19aee569ff5",
   "metadata": {
    "tags": []
   },
   "outputs": [],
   "source": [
    "# print('~'*100, 'PREDICTIONS')\n",
    "# [tf.strings.reduce_join([num_to_char(word) for word in sentence]) for sentence in decoded]"
   ]
  },
  {
   "attachments": {},
   "cell_type": "markdown",
   "id": "64622f98-e99b-4fed-a2cc-f0da82eb5431",
   "metadata": {},
   "source": [
    "# Test on a Video"
   ]
  },
  {
   "cell_type": "code",
   "execution_count": 63,
   "id": "a8b0c4d0-2031-4331-b91d-d87b1ae6f6e2",
   "metadata": {},
   "outputs": [
    {
     "name": "stdout",
     "output_type": "stream",
     "text": [
      "(<tf.Tensor: shape=(75, 46, 140, 1), dtype=float32, numpy=\n",
      "array([[[[1.4991664 ],\n",
      "         [1.4991664 ],\n",
      "         [1.4616872 ],\n",
      "         ...,\n",
      "         [0.41227075],\n",
      "         [0.41227075],\n",
      "         [0.41227075]],\n",
      "\n",
      "        [[1.4991664 ],\n",
      "         [1.4991664 ],\n",
      "         [1.4616872 ],\n",
      "         ...,\n",
      "         [0.41227075],\n",
      "         [0.41227075],\n",
      "         [0.41227075]],\n",
      "\n",
      "        [[1.4616872 ],\n",
      "         [1.4616872 ],\n",
      "         [1.4991664 ],\n",
      "         ...,\n",
      "         [0.33731243],\n",
      "         [0.33731243],\n",
      "         [0.33731243]],\n",
      "\n",
      "        ...,\n",
      "\n",
      "        [[1.0494164 ],\n",
      "         [1.0494164 ],\n",
      "         [1.0119373 ],\n",
      "         ...,\n",
      "         [0.11243747],\n",
      "         [0.11243747],\n",
      "         [0.07495832]],\n",
      "\n",
      "        [[1.0494164 ],\n",
      "         [1.0494164 ],\n",
      "         [1.0119373 ],\n",
      "         ...,\n",
      "         [0.11243747],\n",
      "         [0.07495832],\n",
      "         [0.07495832]],\n",
      "\n",
      "        [[1.0494164 ],\n",
      "         [1.0494164 ],\n",
      "         [1.0119373 ],\n",
      "         ...,\n",
      "         [0.07495832],\n",
      "         [0.07495832],\n",
      "         [0.03747916]]],\n",
      "\n",
      "\n",
      "       [[[1.424208  ],\n",
      "         [1.424208  ],\n",
      "         [1.424208  ],\n",
      "         ...,\n",
      "         [0.33731243],\n",
      "         [0.33731243],\n",
      "         [0.33731243]],\n",
      "\n",
      "        [[1.424208  ],\n",
      "         [1.424208  ],\n",
      "         [1.424208  ],\n",
      "         ...,\n",
      "         [0.33731243],\n",
      "         [0.33731243],\n",
      "         [0.33731243]],\n",
      "\n",
      "        [[1.424208  ],\n",
      "         [1.424208  ],\n",
      "         [1.424208  ],\n",
      "         ...,\n",
      "         [0.29983327],\n",
      "         [0.29983327],\n",
      "         [0.29983327]],\n",
      "\n",
      "        ...,\n",
      "\n",
      "        [[1.0494164 ],\n",
      "         [1.0494164 ],\n",
      "         [1.0119373 ],\n",
      "         ...,\n",
      "         [0.11243747],\n",
      "         [0.11243747],\n",
      "         [0.07495832]],\n",
      "\n",
      "        [[1.0494164 ],\n",
      "         [1.0494164 ],\n",
      "         [1.0119373 ],\n",
      "         ...,\n",
      "         [0.11243747],\n",
      "         [0.07495832],\n",
      "         [0.07495832]],\n",
      "\n",
      "        [[1.0494164 ],\n",
      "         [1.0494164 ],\n",
      "         [1.0119373 ],\n",
      "         ...,\n",
      "         [0.07495832],\n",
      "         [0.07495832],\n",
      "         [0.03747916]]],\n",
      "\n",
      "\n",
      "       [[[1.3492497 ],\n",
      "         [1.3492497 ],\n",
      "         [1.3492497 ],\n",
      "         ...,\n",
      "         [0.33731243],\n",
      "         [0.33731243],\n",
      "         [0.33731243]],\n",
      "\n",
      "        [[1.3492497 ],\n",
      "         [1.3492497 ],\n",
      "         [1.3492497 ],\n",
      "         ...,\n",
      "         [0.33731243],\n",
      "         [0.33731243],\n",
      "         [0.33731243]],\n",
      "\n",
      "        [[1.424208  ],\n",
      "         [1.424208  ],\n",
      "         [1.3867289 ],\n",
      "         ...,\n",
      "         [0.2623541 ],\n",
      "         [0.29983327],\n",
      "         [0.29983327]],\n",
      "\n",
      "        ...,\n",
      "\n",
      "        [[0.9744581 ],\n",
      "         [0.9744581 ],\n",
      "         [0.93697894],\n",
      "         ...,\n",
      "         [0.11243747],\n",
      "         [0.11243747],\n",
      "         [0.07495832]],\n",
      "\n",
      "        [[0.9744581 ],\n",
      "         [0.9744581 ],\n",
      "         [0.93697894],\n",
      "         ...,\n",
      "         [0.11243747],\n",
      "         [0.07495832],\n",
      "         [0.07495832]],\n",
      "\n",
      "        [[0.9744581 ],\n",
      "         [0.9744581 ],\n",
      "         [0.93697894],\n",
      "         ...,\n",
      "         [0.07495832],\n",
      "         [0.07495832],\n",
      "         [0.03747916]]],\n",
      "\n",
      "\n",
      "       ...,\n",
      "\n",
      "\n",
      "       [[[1.4991664 ],\n",
      "         [1.4991664 ],\n",
      "         [1.4991664 ],\n",
      "         ...,\n",
      "         [0.29983327],\n",
      "         [0.29983327],\n",
      "         [0.29983327]],\n",
      "\n",
      "        [[1.424208  ],\n",
      "         [1.424208  ],\n",
      "         [1.424208  ],\n",
      "         ...,\n",
      "         [0.29983327],\n",
      "         [0.29983327],\n",
      "         [0.29983327]],\n",
      "\n",
      "        [[1.4616872 ],\n",
      "         [1.4616872 ],\n",
      "         [1.424208  ],\n",
      "         ...,\n",
      "         [0.29983327],\n",
      "         [0.2623541 ],\n",
      "         [0.2623541 ]],\n",
      "\n",
      "        ...,\n",
      "\n",
      "        [[1.0868956 ],\n",
      "         [1.0494164 ],\n",
      "         [1.0494164 ],\n",
      "         ...,\n",
      "         [0.07495832],\n",
      "         [0.07495832],\n",
      "         [0.07495832]],\n",
      "\n",
      "        [[1.0494164 ],\n",
      "         [1.0494164 ],\n",
      "         [1.0494164 ],\n",
      "         ...,\n",
      "         [0.07495832],\n",
      "         [0.07495832],\n",
      "         [0.07495832]],\n",
      "\n",
      "        [[1.0494164 ],\n",
      "         [1.0494164 ],\n",
      "         [1.0494164 ],\n",
      "         ...,\n",
      "         [0.07495832],\n",
      "         [0.07495832],\n",
      "         [0.03747916]]],\n",
      "\n",
      "\n",
      "       [[[1.4991664 ],\n",
      "         [1.4991664 ],\n",
      "         [1.5366455 ],\n",
      "         ...,\n",
      "         [0.33731243],\n",
      "         [0.29983327],\n",
      "         [0.29983327]],\n",
      "\n",
      "        [[1.424208  ],\n",
      "         [1.424208  ],\n",
      "         [1.4616872 ],\n",
      "         ...,\n",
      "         [0.33731243],\n",
      "         [0.29983327],\n",
      "         [0.29983327]],\n",
      "\n",
      "        [[1.4616872 ],\n",
      "         [1.4616872 ],\n",
      "         [1.424208  ],\n",
      "         ...,\n",
      "         [0.2623541 ],\n",
      "         [0.29983327],\n",
      "         [0.29983327]],\n",
      "\n",
      "        ...,\n",
      "\n",
      "        [[1.0494164 ],\n",
      "         [1.0119373 ],\n",
      "         [1.0119373 ],\n",
      "         ...,\n",
      "         [0.03747916],\n",
      "         [0.03747916],\n",
      "         [0.03747916]],\n",
      "\n",
      "        [[1.0494164 ],\n",
      "         [1.0119373 ],\n",
      "         [1.0119373 ],\n",
      "         ...,\n",
      "         [0.03747916],\n",
      "         [0.03747916],\n",
      "         [0.03747916]],\n",
      "\n",
      "        [[1.0119373 ],\n",
      "         [1.0119373 ],\n",
      "         [0.9744581 ],\n",
      "         ...,\n",
      "         [0.03747916],\n",
      "         [0.03747916],\n",
      "         [0.        ]]],\n",
      "\n",
      "\n",
      "       [[[1.4616872 ],\n",
      "         [1.4616872 ],\n",
      "         [1.4616872 ],\n",
      "         ...,\n",
      "         [0.29983327],\n",
      "         [0.29983327],\n",
      "         [0.29983327]],\n",
      "\n",
      "        [[1.4616872 ],\n",
      "         [1.4616872 ],\n",
      "         [1.4616872 ],\n",
      "         ...,\n",
      "         [0.29983327],\n",
      "         [0.29983327],\n",
      "         [0.29983327]],\n",
      "\n",
      "        [[1.424208  ],\n",
      "         [1.424208  ],\n",
      "         [1.3867289 ],\n",
      "         ...,\n",
      "         [0.29983327],\n",
      "         [0.29983327],\n",
      "         [0.29983327]],\n",
      "\n",
      "        ...,\n",
      "\n",
      "        [[1.0494164 ],\n",
      "         [1.0119373 ],\n",
      "         [1.0119373 ],\n",
      "         ...,\n",
      "         [0.03747916],\n",
      "         [0.03747916],\n",
      "         [0.03747916]],\n",
      "\n",
      "        [[0.9744581 ],\n",
      "         [0.93697894],\n",
      "         [0.9744581 ],\n",
      "         ...,\n",
      "         [0.03747916],\n",
      "         [0.03747916],\n",
      "         [0.03747916]],\n",
      "\n",
      "        [[0.9744581 ],\n",
      "         [0.93697894],\n",
      "         [0.9744581 ],\n",
      "         ...,\n",
      "         [0.03747916],\n",
      "         [0.03747916],\n",
      "         [0.        ]]]], dtype=float32)>, <tf.Tensor: shape=(21,), dtype=float32, numpy=\n",
      "array([0., 0., 0., 0., 0., 0., 0., 0., 0., 0., 0., 0., 0., 0., 0., 0., 0.,\n",
      "       0., 0., 0., 0.], dtype=float32)>)\n"
     ]
    }
   ],
   "source": [
    "sample = load_data_without_alignments(tf.convert_to_tensor('.\\\\data\\\\s1\\\\bbaf2n.mpg'), \"s1\")\n",
    "type(sample)\n",
    "print(sample)"
   ]
  },
  {
   "cell_type": "code",
   "execution_count": 64,
   "id": "0cca60e4-47a9-4683-8a75-48f4684f723d",
   "metadata": {},
   "outputs": [],
   "source": [
    "# print('~'*100, 'REAL TEXT')\n",
    "# [tf.strings.reduce_join([num_to_char(word) for word in sentence]) for sentence in [sample[1]]]"
   ]
  },
  {
   "cell_type": "code",
   "execution_count": 65,
   "id": "8cc5037c-1e32-435c-b0cc-01e1fb3b863c",
   "metadata": {},
   "outputs": [
    {
     "name": "stdout",
     "output_type": "stream",
     "text": [
      "1/1 [==============================] - 2s 2s/step\n"
     ]
    }
   ],
   "source": [
    "yhat = model.predict(tf.expand_dims(sample[0], axis=0))"
   ]
  },
  {
   "cell_type": "code",
   "execution_count": 66,
   "id": "22c4f77d-715d-409f-bc5e-3ebe48704e8f",
   "metadata": {},
   "outputs": [],
   "source": [
    "decoded = tf.keras.backend.ctc_decode(yhat, input_length=[75], greedy=True)[0][0].numpy()"
   ]
  },
  {
   "cell_type": "code",
   "execution_count": 67,
   "id": "e4d12ecc-b634-499e-a4bc-db9f010835fb",
   "metadata": {},
   "outputs": [
    {
     "name": "stdout",
     "output_type": "stream",
     "text": [
      "~~~~~~~~~~~~~~~~~~~~~~~~~~~~~~~~~~~~~~~~~~~~~~~~~~~~~~~~~~~~~~~~~~~~~~~~~~~~~~~~~~~~~~~~~~~~~~~~~~~~ PREDICTIONS\n"
     ]
    },
    {
     "data": {
      "text/plain": [
       "[<tf.Tensor: shape=(), dtype=string, numpy=b'bin blue at f two now'>]"
      ]
     },
     "execution_count": 67,
     "metadata": {},
     "output_type": "execute_result"
    }
   ],
   "source": [
    "print('~'*100, 'PREDICTIONS')\n",
    "[tf.strings.reduce_join([num_to_char(word) for word in sentence]) for sentence in decoded]"
   ]
  },
  {
   "cell_type": "code",
   "execution_count": null,
   "id": "551dfea2-de6b-4400-b71a-a17631529e3f",
   "metadata": {},
   "outputs": [],
   "source": []
  },
  {
   "cell_type": "code",
   "execution_count": null,
   "id": "fa95863d-3832-47bf-8a77-ebaa38054ace",
   "metadata": {},
   "outputs": [],
   "source": []
  }
 ],
 "metadata": {
  "kernelspec": {
   "display_name": ".virtualenv",
   "language": "python",
   "name": "python3"
  },
  "language_info": {
   "codemirror_mode": {
    "name": "ipython",
    "version": 3
   },
   "file_extension": ".py",
   "mimetype": "text/x-python",
   "name": "python",
   "nbconvert_exporter": "python",
   "pygments_lexer": "ipython3",
   "version": "3.8.10"
  }
 },
 "nbformat": 4,
 "nbformat_minor": 5
}
